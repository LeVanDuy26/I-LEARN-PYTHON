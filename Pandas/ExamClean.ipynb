{
 "cells": [
  {
   "cell_type": "markdown",
   "id": "5833b451",
   "metadata": {},
   "source": [
    "# Data cleaning - Comprehensive Cheatsheet"
   ]
  },
  {
   "cell_type": "markdown",
   "id": "1c0f2fc6",
   "metadata": {},
   "source": [
    "## Data Quality Assessment"
   ]
  },
  {
   "cell_type": "markdown",
   "id": "2e59efac",
   "metadata": {},
   "source": [
    "### **Common Data Quality Issues - Các vấn đề chất lượng dữ liệu thường gặp**"
   ]
  },
  {
   "cell_type": "code",
   "execution_count": null,
   "id": "dfe46788",
   "metadata": {},
   "outputs": [],
   "source": [
    "# Missing Data (Thiếu dữ liệu):\n",
    "\n",
    "- Null values (None, NaN, NULL) → Giá trị rỗng\n",
    "- Empty strings (\"\") → Chuỗi rỗng\n",
    "- Placeholder values (\"N/A\", \"Unknown\", -999) → Giá trị thay thế\n",
    "- Inconsistent missing representations → Biểu diễn thiếu dữ liệu không nhất quán"
   ]
  },
  {
   "cell_type": "code",
   "execution_count": null,
   "id": "d75b66b7",
   "metadata": {},
   "outputs": [],
   "source": [
    "# Inconsistent Data (Dữ liệu không nhất quán):\n",
    "\n",
    "- Different formats for same data → Nhiều định dạng cho cùng một dữ liệu\n",
    "- Varying case (uppercase/lowercase) → Phân biệt chữ hoa/thường\n",
    "- Different date formats → Định dạng ngày khác nhau\n",
    "- Unit inconsistencies → Đơn vị không nhất quán"
   ]
  },
  {
   "cell_type": "code",
   "execution_count": null,
   "id": "da219ff0",
   "metadata": {},
   "outputs": [],
   "source": [
    "# Invalid Data (Dữ liệu không hợp lệ):\n",
    "\n",
    "- Out-of-range values → Giá trị ngoài phạm vi\n",
    "- Impossible combinations → Kết hợp không hợp lý\n",
    "- Wrong data types → Sai kiểu dữ liệu\n",
    "- Duplicate records → Bản ghi trùng lặp"
   ]
  },
  {
   "cell_type": "code",
   "execution_count": null,
   "id": "3900b2e7",
   "metadata": {},
   "outputs": [],
   "source": [
    "# Structural Issues (Vấn đề cấu trúc):\n",
    "\n",
    "- Incorrect column names → Tên cột sai\n",
    "- Wrong data types → Sai kiểu dữ liệu\n",
    "- Inconsistent schemas → Lược đồ không nhất quán\n",
    "- Encoding problems → Vấn đề mã hóa"
   ]
  },
  {
   "cell_type": "markdown",
   "id": "97f5575b",
   "metadata": {},
   "source": [
    "### **Data Profiling - Hồ sơ dữ liệu**"
   ]
  },
  {
   "cell_type": "code",
   "execution_count": null,
   "id": "164f0ee3",
   "metadata": {},
   "outputs": [],
   "source": [
    "import pandas as pd\n",
    "import numpy as np \n",
    "\n",
    "# overview\n",
    "df.info()               # Kiểu dữ liệu, số lượng giá trị không null\n",
    "df.describe()           # Thống kê cơ bản\n",
    "df.shape                # Kích thước dữ liệu\n",
    "df.columns.tolist()     # Danh sách tên cột\n",
    "df.dtypes               # Kiểu dữ liệu\n",
    "\n",
    "\n",
    "# Missing data analysis (Phân tích dữ liệu thiếu)\n",
    "df.isnull().sum()           # Đếm số lượng giá trị thiếu theo cột\n",
    "df.isnull().sum()/len(df)   # Tỷ lệ % thiếu\n",
    "df.isnull().any(axis=1).sum() # Số hàng có ít nhất một giá trị thiếu\n",
    "\n",
    "\n",
    "# Unique values analysis (Phân tích giá trị duy nhất)\n",
    "df.nunique()                    # Đếm giá trị duy nhất trong mỗi cột\n",
    "df['column'].value_counts()     # Phân phối tần suất\n",
    "df.duplicated().sum()           # Đếm số dòng trùng"
   ]
  },
  {
   "cell_type": "markdown",
   "id": "ef1f89e2",
   "metadata": {},
   "source": [
    "## Missing Data Handling - Xử lý dữ liệu thiếu"
   ]
  },
  {
   "cell_type": "markdown",
   "id": "c891863d",
   "metadata": {},
   "source": [
    "### **Types of Missing Data (Các loại dữ liệu thiếu)**:\n",
    "\n",
    "1. Missing Completely at Random (MCAR) → Thiếu ngẫu nhiên hoàn toàn\n",
    "\n",
    "2. Missing at Random (MAR) → Thiếu dựa vào dữ liệu quan sát được\n",
    "\n",
    "3. Missing Not at Random (MNAR) → Thiếu có hệ thống, cần kiến thức miền"
   ]
  },
  {
   "cell_type": "code",
   "execution_count": null,
   "id": "4eac2abd",
   "metadata": {},
   "outputs": [],
   "source": []
  }
 ],
 "metadata": {
  "kernelspec": {
   "display_name": "Python 3",
   "language": "python",
   "name": "python3"
  },
  "language_info": {
   "codemirror_mode": {
    "name": "ipython",
    "version": 3
   },
   "file_extension": ".py",
   "mimetype": "text/x-python",
   "name": "python",
   "nbconvert_exporter": "python",
   "pygments_lexer": "ipython3",
   "version": "3.13.5"
  }
 },
 "nbformat": 4,
 "nbformat_minor": 5
}
